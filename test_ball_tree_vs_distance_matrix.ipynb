{
 "cells": [
  {
   "cell_type": "code",
   "execution_count": 1,
   "metadata": {},
   "outputs": [
    {
     "name": "stdout",
     "output_type": "stream",
     "text": [
      "Populating the interactive namespace from numpy and matplotlib\n"
     ]
    }
   ],
   "source": [
    "%pylab inline\n",
    "from joblib import Parallel, delayed\n",
    "\n",
    "import infostop\n",
    "import pandas as pd\n",
    "import numpy as np\n"
   ]
  },
  {
   "cell_type": "markdown",
   "metadata": {},
   "source": [
    "# load data"
   ]
  },
  {
   "cell_type": "code",
   "execution_count": 2,
   "metadata": {},
   "outputs": [],
   "source": [
    "df_0 = pd.read_csv('../intermidiate_data/pre_processed_data.csv', parse_dates = [0])[['med_lat','med_lon','timestamp','individual-local-identifier','individual-taxon-canonical-name']]\n",
    "origin = datetime.datetime(1970,1,1)\n",
    "df_0['timestamp'] = df_0['timestamp'].apply(lambda x: (x - origin).total_seconds()).astype(int)\n",
    "df_0 = df_0.rename(columns = {'med_lat':'lat','med_lon':'lon','individual-local-identifier':'user','individual-taxon-canonical-name':'species'})\n",
    "df_0 = df_0.dropna()\n",
    "species = df_0.groupby('user')['species'].first().to_dict()\n",
    "df_0 = df_0.sort_values(by = ['user','timestamp']).reset_index(drop = True)\n"
   ]
  },
  {
   "cell_type": "code",
   "execution_count": 3,
   "metadata": {},
   "outputs": [],
   "source": [
    "df_0 = pd.concat([df_0,df_0])\n",
    "df_0['diff_from_previous'] = df_0['timestamp'] - df_0['timestamp'].shift()\n",
    "df_0.loc[df_0.diff_from_previous<=0,'diff_from_previous'] = 4*60\n",
    "df_0['timestamp_new'] = df_0['diff_from_previous'].cumsum()\n",
    "df_0['user'] = 'same_user'\n",
    "df_0['timestamp_new'] = df_0['timestamp_new'].fillna(0)"
   ]
  },
  {
   "cell_type": "markdown",
   "metadata": {},
   "source": [
    "# test new branch infostop"
   ]
  },
  {
   "cell_type": "code",
   "execution_count": 4,
   "metadata": {},
   "outputs": [],
   "source": [
    "THRESHOLD_DISTANCE = 10\n",
    "THRESHOLD_DBSCAN = 15\n",
    "LEN_STOPS = 11*60\n",
    "THRESHOLD_TIME_MAX = 60*60*2"
   ]
  },
  {
   "cell_type": "code",
   "execution_count": 5,
   "metadata": {},
   "outputs": [
    {
     "name": "stdout",
     "output_type": "stream",
     "text": [
      "1329676\n"
     ]
    }
   ],
   "source": [
    "location_data = df_0[['lat','lon','timestamp_new']].values\n",
    "print(len(location_data))"
   ]
  },
  {
   "cell_type": "code",
   "execution_count": 6,
   "metadata": {},
   "outputs": [],
   "source": [
    "\n",
    "def compute_output(location_data, N_points):\n",
    "\n",
    "    #Sample of the data\n",
    "    test_data = location_data[:N_points]\n",
    "    \n",
    "    #Time the ball tree\n",
    "    t0 = time.time()\n",
    "    result_ball_tree = infostop.label_trace(test_data,\n",
    "                          r1 = THRESHOLD_DISTANCE, \n",
    "                          r2 = THRESHOLD_DBSCAN, \n",
    "                          return_intervals=True,\n",
    "                          min_staying_time=LEN_STOPS,\n",
    "                          max_time_between=THRESHOLD_TIME_MAX,\n",
    "                          method = 'ball_tree',\n",
    "                          label_singleton = True)\n",
    "    t1 = time.time()\n",
    "    \n",
    "    try:\n",
    "        #Time the distance matrix  (it may not work if matrix is too big, this is why I try)\n",
    "        result_distance_matrix = infostop.label_trace(test_data,\n",
    "                          r1 = THRESHOLD_DISTANCE, \n",
    "                          r2 = THRESHOLD_DBSCAN, \n",
    "                          return_intervals=True,\n",
    "                          min_staying_time=LEN_STOPS,\n",
    "                          max_time_between=THRESHOLD_TIME_MAX,\n",
    "                          method = 'distance_matrix',\n",
    "                          label_singleton = True)\n",
    "        t2 = time.time()\n",
    "        time_2 = (t2-t1)\n",
    "        \n",
    "        #Check if the outputs of the two are the same\n",
    "        correct = all(np.nan_to_num(result_ball_tree)==np.nan_to_num(result_distance_matrix))\n",
    "        \n",
    "        \n",
    "    except:\n",
    "        time_2 = np.nan\n",
    "        correct = np.nan\n",
    "        \n",
    "    time_1 = (t1-t0)    \n",
    "    stop_events = len(result_ball_tree)\n",
    "    return time_1,time_2, stop_events, N_points, correct"
   ]
  },
  {
   "cell_type": "code",
   "execution_count": 7,
   "metadata": {},
   "outputs": [],
   "source": [
    "numbers_of_points = [int(i) for i in np.logspace(2, np.log10(len(location_data)))]"
   ]
  },
  {
   "cell_type": "code",
   "execution_count": 8,
   "metadata": {},
   "outputs": [],
   "source": [
    "test = Parallel(n_jobs=10)(delayed(compute_output)(location_data, i) for i in numbers_of_points)"
   ]
  },
  {
   "cell_type": "code",
   "execution_count": 9,
   "metadata": {},
   "outputs": [],
   "source": [
    "time_1,time_2, stop_events, N_points, correct = zip(*test)"
   ]
  },
  {
   "cell_type": "code",
   "execution_count": 10,
   "metadata": {},
   "outputs": [
    {
     "data": {
      "image/png": "[encoded data removed]",
      "text/plain": [
       "<Figure size 432x288 with 1 Axes>"
      ]
     },
     "metadata": {
      "needs_background": "light"
     },
     "output_type": "display_data"
    }
   ],
   "source": [
    "plt.figure()\n",
    "plt.plot(N_points, time_1, label ='ball tree')\n",
    "plt.plot(N_points, time_2, label = 'distance matrix')\n",
    "plt.legend()\n",
    "plt.xlabel('data points')\n",
    "plt.ylabel('computation time')\n",
    "plt.show()"
   ]
  },
  {
   "cell_type": "code",
   "execution_count": 11,
   "metadata": {},
   "outputs": [
    {
     "data": {
      "text/plain": [
       "1.0"
      ]
     },
     "execution_count": 11,
     "metadata": {},
     "output_type": "execute_result"
    }
   ],
   "source": [
    "#Fraction of the outputs where the result is the same using the two methods\n",
    "sum(correct)/len(correct)"
   ]
  },
  {
   "cell_type": "code",
   "execution_count": null,
   "metadata": {},
   "outputs": [],
   "source": []
  }
 ],
 "metadata": {
  "kernelspec": {
   "display_name": "Python 3",
   "language": "python",
   "name": "python3"
  },
  "language_info": {
   "codemirror_mode": {
    "name": "ipython",
    "version": 3
   },
   "file_extension": ".py",
   "mimetype": "text/x-python",
   "name": "python",
   "nbconvert_exporter": "python",
   "pygments_lexer": "ipython3",
   "version": "3.6.8"
  }
 },
 "nbformat": 4,
 "nbformat_minor": 2
}
